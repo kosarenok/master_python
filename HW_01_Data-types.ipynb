{
 "cells": [
  {
   "cell_type": "markdown",
   "metadata": {},
   "source": [
    "## 1. Средний балл (списки)\n",
    "\n",
    "Дан список `student = ['Иван Питонов', 2001, [8, 7, 7, 9, 6], True]`. Выполните пункты ниже. Все выводы должны быть в формате \"Средний балл студента: {средний балл}\"\n",
    "\n",
    "1. Выведите фамилию и имя Ивана в формате \"Студент: {Фамилия}, {Имя}\"\n",
    "2. Выведите возраст Ивана, если сейчас 2020 год.\n",
    "3. Напечатайте оценки Ивана через запятую. \n",
    "1. Найдите средний балл Ивана, если оценки хранятся в списке внутри кортежа. Сумму элементов списка можно найти с помощью функции sum(). Выведите средний балл.\n",
    "3. Если средняя оценка Ивана больше или равна 8, то он получает повышенную стипендию. Выведите True или False."
   ]
  },
  {
   "cell_type": "code",
   "execution_count": null,
   "metadata": {},
   "outputs": [],
   "source": [
    "student = ['Иван Питонов', 2001, [8, 7, 7, 9, 6], True]"
   ]
  },
  {
   "cell_type": "code",
   "execution_count": null,
   "metadata": {},
   "outputs": [],
   "source": [
    "# 1\n",
    "print(f'Студент: {student[0].split()[1]}, {student[0].split()[0]}')"
   ]
  },
  {
   "cell_type": "code",
   "execution_count": null,
   "metadata": {},
   "outputs": [],
   "source": [
    "#2\n",
    "year = int(input('Какой сейчас год?'))\n",
    "print(f'Возраст студента: {year - int(student[1])}')"
   ]
  },
  {
   "cell_type": "code",
   "execution_count": null,
   "metadata": {},
   "outputs": [],
   "source": [
    "# 3\n",
    "print(f'Оценки студента: {str(student[2])[1:-1]}')"
   ]
  },
  {
   "cell_type": "code",
   "execution_count": null,
   "metadata": {},
   "outputs": [],
   "source": [
    "# 4\n",
    "mean = sum(student[2]) / len(student[2])\n",
    "\n",
    "print(f'Средний балл студента: {mean}')"
   ]
  },
  {
   "cell_type": "code",
   "execution_count": null,
   "metadata": {},
   "outputs": [],
   "source": [
    "if mean >= 8:\n",
    "     student[3] = True\n",
    "else:\n",
    "     student[3] = False\n",
    "\n",
    "print(f'Студент получает повышенную стипедию: {student[3]}')"
   ]
  },
  {
   "cell_type": "markdown",
   "metadata": {},
   "source": [
    "## 2. Срезы списков\n",
    "\n",
    "Используя список `dwarves`, выведите на экран с помощью срезов следующие списки:\n",
    "\n",
    "    [\"Двалин\", \"Бифур\", \"Бофур\"]\n",
    "    [\"Балин\", \"Бифур\", \"Бомбур\", \"Глоин\", \"Нори\", \"Фили\", \"Торин\"]\n",
    "    [\"Оин\", \"Дори\", \"Ори\", \"Кили\"]\n",
    "    [\"Торин\", \"Фили\", \"Нори\", \"Глоин\"]"
   ]
  },
  {
   "cell_type": "code",
   "execution_count": null,
   "metadata": {},
   "outputs": [],
   "source": [
    "dwarves = [\"Балин\", \"Двалин\", \"Бифур\", \"Бофур\", \n",
    "         \"Бомбур\", \"Оин\", \"Глоин\", \"Дори\", \"Нори\",\n",
    "         \"Ори\", \"Фили\", \"Кили\", \"Торин\"]\n",
    "\n",
    "# решение здесь\n",
    "\n",
    "dwarves[1:4]"
   ]
  },
  {
   "cell_type": "code",
   "execution_count": null,
   "metadata": {},
   "outputs": [],
   "source": [
    "dwarves[0::2]"
   ]
  },
  {
   "cell_type": "code",
   "execution_count": null,
   "metadata": {},
   "outputs": [],
   "source": [
    "dwarves[5::2]"
   ]
  },
  {
   "cell_type": "code",
   "execution_count": null,
   "metadata": {},
   "outputs": [],
   "source": [
    "dwarves[:5:-2]"
   ]
  },
  {
   "cell_type": "markdown",
   "metadata": {},
   "source": [
    "## 3. Вложенные словари\n",
    "\n",
    "Вам дан словарь, содержащий в себе списки словарей. Напишите код, который выведет на экран 'разработчик' из списка ключа Windows в в первом словаре из списка 2."
   ]
  },
  {
   "cell_type": "code",
   "execution_count": null,
   "metadata": {},
   "outputs": [],
   "source": [
    "dict_of_lists = {'Список1': [{'Python': 'язык программирования'}, {'R':'язык программирования', 'LaTEX' : 'язык верстки' }], \n",
    "                 'Список2' : [{'Windows' : ['операционная система', 'разработчик'], 'UNIX' : 'операционная система'},\n",
    "                              {'IBM': ['компания-производитель', 'разработчик'], 'IPv6' : 'интернет-протокол' }]}\n",
    "\n",
    "# ваше решение здесь\n",
    "dict_of_lists['Список2'][0]['Windows']"
   ]
  },
  {
   "cell_type": "markdown",
   "metadata": {},
   "source": [
    "## 4. Количество различных чисел (списки и множества)\n",
    "\n",
    "Дан список чисел, который может содержать до 100000 чисел. \n",
    "\n",
    "1. Определите, сколько в нем встречается различных чисел.\n",
    "2. Оцените, как зависит количество уникальных элементов в списке от длины списка (от length)\n",
    "\n",
    "Если есть вопрос \"как оценить\", приходите в чат, ответ обязательно найдется. Логика: много раз сгенерировать списки длины l, в каждом посчитать кол-во уникальных элементов, усреднить, повторить для нового l.\n",
    "\n",
    "Если у вас в кармане завалялось математическое вычисление этой зависимости, приносите :)"
   ]
  },
  {
   "cell_type": "code",
   "execution_count": null,
   "metadata": {},
   "outputs": [],
   "source": [
    "import numpy as np\n",
    "\n",
    "# Генерирую случайную длину до 100000\n",
    "length = np.random.randint(1,100000)\n",
    "\n",
    "# Генерирую случайный список целых чисел из length элементов\n",
    "int_list = list(np.random.binomial(length, 0.5,size = length))\n",
    "\n",
    "\n",
    "unique = len(set(int_list))\n",
    "print(f\"Количество различных чисел: {unique}\")"
   ]
  },
  {
   "cell_type": "code",
   "execution_count": null,
   "metadata": {},
   "outputs": [],
   "source": [
    "import matplotlib.pyplot as plt\n",
    "import numpy as np\n",
    "\n",
    "def avg(list):\n",
    "    return sum(list)/len(list)\n",
    "\n",
    "n = 0\n",
    "all_length = []\n",
    "all_uni_ints = []\n",
    "\n",
    "while n < 1000:\n",
    "    length = np.random.randint(1,100000)\n",
    "    all_length.append(length)\n",
    "    uni_ints = len(set(list(np.random.binomial(length, 0.5,size = length)))) \n",
    "    all_uni_ints.append(uni_ints)\n",
    "    n += 1\n",
    "\n",
    "\n",
    "plt.scatter(all_length, all_uni_ints, linewidth=1.0)\n",
    "plt.xlabel(\"Длинны списков\")\n",
    "plt.ylabel(\"Уникальное количество чисел\")\n",
    "plt.show()"
   ]
  },
  {
   "cell_type": "markdown",
   "metadata": {},
   "source": [
    "## 5. Сортируем числа и строки (списки, сортировки, map())\n",
    "Дан список `numbers = [1, 1000, 1002124, 25, 10, 20, 351]`. Выполните следующие шаги. Для сортировок пользуйтесь функцией sorted().\n",
    "\n",
    "1. Отсортируйте этот список по возрастанию и сохраните результат в переменную numbers_int_sorted\n",
    "2. На основе оригинального списка numbers с помощью функции map создайте новый список, где вместо каждого числа будет строка ('1', '1000' и т.д.) и сохраните его в переменную numbers_str\n",
    "3. Отсортируйте список numbers_str по возрастанию и сохраните результат в переменную numbers_str_sorted\n",
    "4. Отсортийте список numbers_str по возрастанию с помощью ключа, который перед сортировкой представляет строки в виде целых чисел, и сохраните результат в переменную numbers_str_key_sorted\n",
    "5. Выведите три отсортированных списка. Есть ли среди них одинаковые? Почему?\n",
    "\n"
   ]
  },
  {
   "cell_type": "code",
   "execution_count": null,
   "metadata": {},
   "outputs": [],
   "source": [
    "numbers = [1, 1000, 1002124, 25, 10, 20, 351]"
   ]
  },
  {
   "cell_type": "code",
   "execution_count": null,
   "metadata": {},
   "outputs": [],
   "source": [
    "numbers_int_sorted = sorted(numbers)"
   ]
  },
  {
   "cell_type": "code",
   "execution_count": null,
   "metadata": {},
   "outputs": [],
   "source": [
    "numbers_str = list(map(str, numbers))"
   ]
  },
  {
   "cell_type": "code",
   "execution_count": 31,
   "metadata": {},
   "outputs": [],
   "source": [
    "numbers_str_sorted = sorted(numbers_str)\n",
    "numbers_str_key_sorted = sorted(numbers, key = int)"
   ]
  },
  {
   "cell_type": "code",
   "execution_count": 32,
   "metadata": {},
   "outputs": [
    {
     "name": "stdout",
     "output_type": "stream",
     "text": [
      "1: [1, 10, 20, 25, 351, 1000, 1002124]\n",
      "2: ['1', '10', '1000', '1002124', '20', '25', '351']\n",
      "3: [1, 10, 20, 25, 351, 1000, 1002124]\n"
     ]
    }
   ],
   "source": [
    "print(f\"1: {numbers_int_sorted}\\n2: {numbers_str_sorted}\\n3: {numbers_str_key_sorted}\")"
   ]
  },
  {
   "cell_type": "markdown",
   "metadata": {},
   "source": [
    "Первый и третий списки одинаковы, так как мы сортировали именно целые числа, где логика компьютера схожа с человеческой. Однако во втором списке мы видим не совсем понятную нам сортировку. Программа сортирует их согласно ASCII, где, например, 10 будет раньше 9."
   ]
  },
  {
   "cell_type": "markdown",
   "metadata": {},
   "source": [
    "## 6. Факультативы (множества)\n",
    "Группа из 3 студентов пишет заявки на желаемые факультативы из списка: английский, немецкий, право, математика, сольфеджио. Факультатив откроют, если на него запишутся все студенты. Каждый студент может выбрать минимум один и максимум три факультатива. Нужно посчитать количество факультативов, которые откроются.\n",
    "\n",
    "*Пример*\n",
    "\n",
    "**Ввод:**\n",
    "\n",
    "английский сольфеджио право  \n",
    "математика сольфеджио  \n",
    "немецкий право\n",
    "\n",
    "**Вывод:**\n",
    "\n",
    "0\n",
    "\n",
    "**Ввод:**\n",
    "\n",
    "математика немецкий право  \n",
    "математика немецкий  \n",
    "немецкий право математика \n",
    "\n",
    "**Вывод:**  \n",
    "2\n",
    "\n",
    "(нужна будет функция input())"
   ]
  },
  {
   "cell_type": "code",
   "execution_count": 43,
   "metadata": {},
   "outputs": [
    {
     "name": "stdout",
     "output_type": "stream",
     "text": [
      "{'математика': 3, 'немецкий': 3, 'право': 2}\n"
     ]
    },
    {
     "data": {
      "text/plain": [
       "2"
      ]
     },
     "execution_count": 43,
     "metadata": {},
     "output_type": "execute_result"
    }
   ],
   "source": [
    "def define_open_facs(x: list, y: list, z: list):\n",
    "    facs_choice = x + y + z\n",
    "    unique_facs = set(facs_choice)\n",
    "    facs_dict = dict()\n",
    "    facs_count = 0\n",
    "\n",
    "    for k in unique_facs:\n",
    "        facs_dict[k] = 0\n",
    "\n",
    "    for i in facs_choice:\n",
    "        facs_dict[i] += 1\n",
    "\n",
    "    for j in unique_facs:\n",
    "        if facs_dict[j] >= 3:\n",
    "            facs_count +=1\n",
    "    return facs_count\n",
    "\n",
    "first,second,third = input(\"Студент 1\").split(), input(\"Студент 2\").split(), input(\"Студент 3\").split()\n",
    "define_open_facs(x = first, y = second, z = third)"
   ]
  },
  {
   "cell_type": "markdown",
   "metadata": {},
   "source": [
    "## 7. Даны два отсортированных списка, соедините их в один отсортированный список\n",
    "\n",
    "Нужно сделать за минимальное возможное кол-во операций\n",
    "\n",
    "    Входные данные: [1,2,3], [3,4,5]\n",
    "    Выходные данные: [1,2,3,3,4,5]\n",
    "\n",
    "    Входные данные: [1,1,1], [1,40,50]\n",
    "    Выходные данные: [1,1,1,1,40,50]"
   ]
  },
  {
   "cell_type": "code",
   "execution_count": 1,
   "metadata": {},
   "outputs": [
    {
     "name": "stdout",
     "output_type": "stream",
     "text": [
      "['1', '2', '3', '3', '4', '5']\n"
     ]
    }
   ],
   "source": [
    "two_lists = input()\n",
    "spisok = []\n",
    "\n",
    "for i in two_lists:\n",
    "    if i not in \",[] \":\n",
    "        spisok.append(i)\n",
    "print(sorted(spisok))"
   ]
  },
  {
   "cell_type": "markdown",
   "metadata": {},
   "source": [
    "## 8. Про Поросёнка Петра\n",
    "\n",
    "На плоскости в точке (0,0) стоит Поросёнок Пётр. Он умеет ходить налево, направо, вверх и вниз. Расстояние его прохода в какую-либо сторону измеряется в шагах. Когда он идет вправо, его первая координата увеличивается, когда влево - уменьшается. Когда он идет вверх, его вторая координата увеличивается, а когда вниз - уменьшается. \n",
    "\n",
    "С клавиатуры считывается число N - число ходов, которые сделает Пётр. После чего на каждом шаге спрашивается, сколько шагов и в какую сторону за этот ход Пётр сделает. Так происходит, пока Пётр не осуществит все N ходов.\n",
    "\n",
    "Программа должна вывести, сколько шагов Пётр должен был бы сделать, чтобы кратчайшим путем прибыть из свое начальной точки (0,0) в свою конечную точку. Напоминание: Пётр умеет ходить только вверх-вниз, и влево-вправо, но не по диагонали.\n",
    "\n",
    "Пример ввода: \n",
    "\n",
    "    Введите N: 3\n",
    "    Ход 1: Вверх 1\n",
    "    Ход 2: Вниз 1\n",
    "    Ход 3: Вверх 1\n",
    "    \n",
    "Пример вывода:\n",
    "\n",
    "    Пётр находится на расстоянии 1 от (0,0)"
   ]
  },
  {
   "cell_type": "code",
   "execution_count": 10,
   "metadata": {},
   "outputs": [
    {
     "name": "stdout",
     "output_type": "stream",
     "text": [
      "Пётр находится на расстоянии 8 от (0,0)\n"
     ]
    }
   ],
   "source": [
    "# Количество ходов\n",
    "n = int(input())\n",
    "new_coords = {\"x\" : 0, \"y\" : 0}\n",
    "default_coords = {\"x\" : 0, \"y\" : 0}\n",
    "\n",
    "# Просчитывыаем координаты поросенка\n",
    "def where_porosenok (n):\n",
    "    while n != 0:\n",
    "        n -= 1\n",
    "        hod = input().split()\n",
    "        if hod[0] == \"Вверх\":\n",
    "            new_coords[\"y\"] += int(hod[1])\n",
    "        elif hod[0] == \"Вниз\":\n",
    "            new_coords[\"y\"] -= int(hod[1])\n",
    "        elif hod[0] == \"Влево\":\n",
    "            new_coords[\"x\"] -= int(hod[1])\n",
    "        elif hod[0] == \"Вправо\":\n",
    "            new_coords[\"x\"] += int(hod[1])\n",
    "    return new_coords    \n",
    "\n",
    "where_porosenok(n)\n",
    "\n",
    "# Считаем Манхэттенское расстояние (она хотела бы жить на Манхэттене и с Демимур делиться секретами!)\n",
    "d = abs(new_coords[\"x\"] - 0) + abs(new_coords[\"y\"] - 0)\n",
    "\n",
    "print(f\"Пётр находится на расстоянии {d} от (0,0)\")"
   ]
  },
  {
   "cell_type": "markdown",
   "metadata": {},
   "source": [
    "## 9. Развернуть число\n",
    "\n",
    "Вам на вход подается произвольное целое число. \"Разверните\" его, не используя преобразование к строке.\n",
    "\n",
    "Пример:\n",
    "    \n",
    "    Вход: 12345890\n",
    "    Выход: 9854321"
   ]
  },
  {
   "cell_type": "code",
   "execution_count": 36,
   "metadata": {},
   "outputs": [
    {
     "name": "stdout",
     "output_type": "stream",
     "text": [
      "14432\n"
     ]
    }
   ],
   "source": [
    "n = input()\n",
    "d = \"\"\n",
    "\n",
    "for k in range(len(n)-1, 0, -1):\n",
    "    d += n[k]\n",
    "print(d)\n",
    "\n"
   ]
  },
  {
   "cell_type": "markdown",
   "metadata": {},
   "source": [
    "## 10. Дано целое число, что может означать зашифрованное им сообщение\n",
    "\n",
    "Дано целое число которое означает последовательность цифр, набранных на кнопочном телефоне (печатали короткую СМСку на русском/английском языке, как вам удобнее). Вывести все варианты того, что может введенная последовательность означать.\n",
    "\n",
    "    Входные данные: digits = \"23\"\n",
    "    Выходные данные: [\"ad\",\"ae\",\"af\",\"bd\",\"be\",\"bf\",\"cd\",\"ce\",\"cf\"]\n",
    "\n",
    "+ усложнение. Попробуйте расшифровать наиболее вероятные введенные слова (вопросы можно задавать)"
   ]
  },
  {
   "cell_type": "code",
   "execution_count": 57,
   "metadata": {},
   "outputs": [],
   "source": [
    "digit_to_letters = {\n",
    "    '2': 'abc',\n",
    "    '3': 'def',\n",
    "    '4': 'ghi',\n",
    "    '5': 'jkl',\n",
    "    '6': 'mno',\n",
    "    '7': 'pqrs',\n",
    "    '8': 'tuv',\n",
    "    '9': 'wxyz'\n",
    "}"
   ]
  },
  {
   "cell_type": "code",
   "execution_count": 56,
   "metadata": {},
   "outputs": [],
   "source": [
    "def letter_combinations(digits):\n",
    "    if not digits:\n",
    "        return []\n",
    "\n",
    "    def backtrack(index, path):\n",
    "        if index == len(digits):\n",
    "            combinations.append(''.join(path))\n",
    "            return\n",
    "\n",
    "        digit = digits[index]\n",
    "        if digit in digit_to_letters:\n",
    "            letters = digit_to_letters[digit]\n",
    "            for letter in letters:\n",
    "                path.append(letter)\n",
    "                backtrack(index + 1, path)\n",
    "                path.pop()\n",
    "\n",
    "    combinations = []\n",
    "    backtrack(0, [])\n",
    "    return combinations\n",
    "\n"
   ]
  },
  {
   "cell_type": "code",
   "execution_count": 60,
   "metadata": {},
   "outputs": [
    {
     "name": "stdout",
     "output_type": "stream",
     "text": [
      "['gad', 'gae', 'gaf', 'gbd', 'gbe', 'gbf', 'gcd', 'gce', 'gcf', 'had', 'hae', 'haf', 'hbd', 'hbe', 'hbf', 'hcd', 'hce', 'hcf', 'iad', 'iae', 'iaf', 'ibd', 'ibe', 'ibf', 'icd', 'ice', 'icf']\n"
     ]
    }
   ],
   "source": [
    "digits = input(\"Введите цифры:\")\n",
    "result = letter_combinations(digits)\n",
    "print(result)"
   ]
  },
  {
   "cell_type": "markdown",
   "metadata": {},
   "source": [
    "## 11. Объединение словарей\n",
    "\n",
    "Напишите программу, которая подсчитывает значения из произвольного списка словарей следующего вида.\n",
    "\n",
    "Ввод:\n",
    "\n",
    "    shops = [{'товар': 'яблоки', 'количество': 400}, {'товар': 'конфеты', 'количество': 300}, {'товар': 'яблоки', 'количество': 750}]\n",
    "\n",
    "\n",
    "Вывод:\n",
    "\n",
    "    {'яблоки': 1150, 'конфеты': 300}"
   ]
  },
  {
   "cell_type": "code",
   "execution_count": 39,
   "metadata": {},
   "outputs": [],
   "source": [
    "shops = [{'товар': 'яблоки', 'количество': 400},\n",
    "         {'товар': 'конфеты', 'количество': 300}, \n",
    "         {'товар': 'яблоки', 'количество': 750}]"
   ]
  },
  {
   "cell_type": "code",
   "execution_count": 49,
   "metadata": {},
   "outputs": [
    {
     "data": {
      "text/plain": [
       "{'яблоки': 1150, 'конфеты': 300}"
      ]
     },
     "execution_count": 49,
     "metadata": {},
     "output_type": "execute_result"
    }
   ],
   "source": [
    "\n",
    "def recount_dict(dict_to_recount : dict):\n",
    "    new_dict = {}\n",
    "    for item in shops:\n",
    "        product = item[\"товар\"]\n",
    "        amount = item[\"количество\"]\n",
    "\n",
    "        if product in new_dict:\n",
    "            new_dict[product] += amount\n",
    "        else:\n",
    "            new_dict[product] = amount\n",
    "            \n",
    "    return new_dict\n",
    "\n",
    "recount_dict(dict_to_recount=shops)"
   ]
  },
  {
   "cell_type": "markdown",
   "metadata": {},
   "source": [
    "## 12. Треугольник\n",
    "\n",
    "На вход принимается число N. \n",
    "\n",
    "Выведите на печать следующий паттерн:\n",
    "\n",
    "1\n",
    "\n",
    "1 2\n",
    "\n",
    "1 2 3\n",
    "\n",
    "1 2 3 4\n",
    "\n",
    "...\n",
    "\n",
    "1 ... N"
   ]
  },
  {
   "cell_type": "code",
   "execution_count": 49,
   "metadata": {},
   "outputs": [
    {
     "name": "stdout",
     "output_type": "stream",
     "text": [
      " 1\n",
      " 1 2\n",
      " 1 2 3\n",
      " 1 2 3 4\n",
      " 1 2 3 4 5\n"
     ]
    }
   ],
   "source": [
    "n = int(input())\n",
    "t = \"\"\n",
    "\n",
    "for i in range(1, n + 1):\n",
    "    t += \" \" + str(i)\n",
    "    print(t)"
   ]
  }
 ],
 "metadata": {
  "kernelspec": {
   "display_name": "Python 3",
   "language": "python",
   "name": "python3"
  },
  "language_info": {
   "codemirror_mode": {
    "name": "ipython",
    "version": 3
   },
   "file_extension": ".py",
   "mimetype": "text/x-python",
   "name": "python",
   "nbconvert_exporter": "python",
   "pygments_lexer": "ipython3",
   "version": "3.11.5"
  }
 },
 "nbformat": 4,
 "nbformat_minor": 4
}
