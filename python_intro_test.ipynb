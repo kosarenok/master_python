{
 "cells": [
  {
   "cell_type": "markdown",
   "metadata": {},
   "source": [
    "# Задача 1. Уникальные ip\n",
    "\n",
    "\n",
    "Дан файл `access_log.txt`, строки которого начинаются с ip пользователей. Найти:\n",
    "\n",
    "1. количество уникальных ip\n",
    "2. 5 самых часто встречающихся и то, сколько раз они встречаются."
   ]
  },
  {
   "cell_type": "code",
   "execution_count": 66,
   "metadata": {},
   "outputs": [
    {
     "name": "stderr",
     "output_type": "stream",
     "text": [
      "C:\\Users\\Kosarev_G\\AppData\\Local\\Temp\\ipykernel_20984\\857264250.py:3: ParserWarning: Falling back to the 'python' engine because the 'c' engine does not support regex separators (separators > 1 char and different from '\\s+' are interpreted as regex); you can avoid this warning by specifying engine='python'.\n",
      "  df = pd.read_csv(\"access_log.txt\", sep=\" - - \", header= None)\n"
     ]
    },
    {
     "name": "stdout",
     "output_type": "stream",
     "text": [
      "Уникальное количество IP:2298\n"
     ]
    }
   ],
   "source": [
    "import pandas as pd\n",
    "\n",
    "df = pd.read_csv(\"access_log.txt\", sep=\" - - \", header= None)\n",
    "\n",
    "df = df[0]\n",
    "print(f'Уникальное количество IP:{len(df.unique())}')\n"
   ]
  },
  {
   "cell_type": "code",
   "execution_count": 69,
   "metadata": {},
   "outputs": [
    {
     "data": {
      "text/plain": [
       "193.106.31.130    44978\n",
       "173.255.176.5      5220\n",
       "178.44.47.170      2824\n",
       "51.210.183.78      2684\n",
       "45.15.143.155      1927\n",
       "Name: 0, dtype: int64"
      ]
     },
     "execution_count": 69,
     "metadata": {},
     "output_type": "execute_result"
    }
   ],
   "source": [
    "# Топ 5 самых часто встречающихся IP\n",
    "df.value_counts().nlargest(5)"
   ]
  },
  {
   "cell_type": "markdown",
   "metadata": {},
   "source": [
    "# Задача 2. Класс\n",
    "\n",
    "Напишите класс для интегрирования функций одной переменной без особенностей на конечном интервале. \n",
    "Что у класса должно быть: \n",
    "    \n",
    "1. Выбор способа интегрирование: `trapeze` и `rectangle` (интегрирование методом трапеций и прямоугольников соответственно)\n",
    "    \n",
    "2. Явное указание интервала интегрирования и количества отрезков, на которые этот интервал разбивается\n",
    "\n",
    "3. Возможность передать любую функцию одной переменной (которая на вход принимает вещественное число и возвращает тоже вещественное число), предполагается, что функция особенностей не имеет\n",
    "\n",
    "\n",
    "Пример вызова:\n",
    "\n",
    "    trapeze_integrator = Integrator(-1, 1, 1000, 'trapeze')\n",
    "\n",
    "    x3 = lambda x: x\\*\\*3\n",
    "\n",
    "    trapeze_integrator.integrate(x3)\n",
    "    \n",
    "Ну и результат такого интегрирования должен быть разумным) Для примера должно получиться что-то около 0."
   ]
  },
  {
   "cell_type": "code",
   "execution_count": 77,
   "metadata": {},
   "outputs": [],
   "source": [
    "class Integrator:\n",
    "    def __init__(self, a, b, n, method='trapeze|rectangle'):\n",
    "\n",
    "        self.a = a # Начало интервала интегрирования\n",
    "        self.b = b # Конец интервала интегрирования\n",
    "        self.n = n # Количество отрезков, на которые разбивается интервал\n",
    "        self.method = method #Метод интегрирования ('trapeze' или 'rectangle')\n",
    "\n",
    "    def integrate(self, func):\n",
    "\n",
    "        if self.method == 'trapeze':\n",
    "            integral = self.trapezoidal_integration(func)\n",
    "        elif self.method == 'rectangle':\n",
    "            integral = self.rectangle_integration(func)\n",
    "        else:\n",
    "            raise ValueError(\"Неподдерживаемый метод интегрирования\")\n",
    "\n",
    "        return integral\n",
    "\n",
    "    def trapezoidal_integration(self, func):\n",
    "\n",
    "        h = (self.b - self.a) / self.n\n",
    "        integral = 0.5 * (func(self.a) + func(self.b))\n",
    "\n",
    "        for i in range(1, self.n):\n",
    "            integral += func(self.a + i * h)\n",
    "\n",
    "        integral *= h\n",
    "        return integral\n",
    "\n",
    "    def rectangle_integration(self, func):\n",
    "\n",
    "        h = (self.b - self.a) / self.n\n",
    "        integral = 0\n",
    "\n",
    "        for i in range(self.n):\n",
    "            x_i = self.a + i * h\n",
    "            integral += func(x_i)\n",
    "\n",
    "        integral *= h\n",
    "        return integral\n",
    "\n"
   ]
  },
  {
   "cell_type": "markdown",
   "metadata": {},
   "source": [
    "# Задача 3. NumPy\n",
    "\n",
    "Вам дан массив с числами размера $x*n$ (это размер столбца) на $m$. Напишите функцию `bucket_aggregate(arr: np.array, x: int)-> np.array`, которая делает следующее преобразование:\n",
    "\n",
    "Каждый столбец разбивается на x бакетов одинаковой длины n и внутри каждого бакета считается среднее значение.\n",
    "На выходе получается массив размера $n$ на $m$. Гарантируется, что длина столбца входного массива нацело делится на x. (\"корректную\" работу для массива 10\\*10 и 3 бакетов предусматривать не обязательно). Ошибки вычислений, связанные с ограниченной точностью типа Float, пытаться вылечить не обязательно.\n",
    "\n",
    "**Пример**\n",
    "\n",
    "**Вход**\n",
    "\n",
    "Массив **a**\n",
    "\n",
    "1 1 1\n",
    "\n",
    "2 3 3\n",
    "\n",
    "4 5 6\n",
    " \n",
    "1 2 3\n",
    "\n",
    "\n",
    "**Применение**\n",
    "\n",
    "    bucket_aggregate(a, 2)\n",
    "    \n",
    "**Выход**\n",
    "\n",
    "1.5 2   2\n",
    "\n",
    "2.5 3.5 4.5\n",
    "\n"
   ]
  },
  {
   "cell_type": "code",
   "execution_count": 88,
   "metadata": {},
   "outputs": [],
   "source": [
    "import numpy as np\n",
    "\n",
    "def bucket_aggregate(arr, x):\n",
    "    # Получить размеры исходного массива\n",
    "    n, m = arr.shape\n",
    "    \n",
    "    # Рассчитать размер бакетов\n",
    "    bucket_size = n // x\n",
    "    \n",
    "    # Инициализировать результирующий массив с нулями\n",
    "    result = np.zeros((bucket_size, m))\n",
    "    \n",
    "    # Разбить каждый столбец на бакеты и вычислить средние значения\n",
    "    for i in range(bucket_size):\n",
    "        start = i * x\n",
    "        end = (i + 1) * x\n",
    "        bucket = arr[start:end, :]\n",
    "        result[i, :] = np.mean(bucket, axis=0)\n",
    "    \n",
    "    return result\n",
    "\n"
   ]
  },
  {
   "cell_type": "code",
   "execution_count": 90,
   "metadata": {},
   "outputs": [
    {
     "data": {
      "text/plain": [
       "array([[47.5, 47.5, 23.5],\n",
       "       [28. , 76. , 60.5]])"
      ]
     },
     "execution_count": 90,
     "metadata": {},
     "output_type": "execute_result"
    }
   ],
   "source": [
    "aboba = np.random.randint(low=0, high=100, size=(5, 3), dtype=int)\n",
    "\n",
    "bucket_aggregate(aboba, 2)"
   ]
  },
  {
   "cell_type": "markdown",
   "metadata": {},
   "source": [
    "# Задача 4. Про pandas\n",
    "\n",
    "Дан датафрейм, содержащий распаршенную с сайта reverb информацию об объявлениях о продаже электрогитар.\n",
    "Поля там такие:\n",
    "\n",
    "`title` - заголовок объявления\n",
    "`description` и `text` - что-то из описания объявления\n",
    "`price` - цена в долларах\n",
    "`params_dict` - словарь параметров (чтобы считать его, можете воспользоваться `eval`)\n",
    "\n",
    "Вопросы:\n",
    "\n",
    "1. Сколько возможных ключей есть в params_dict\n",
    "2. Какой инструмент самый дорогой и сколько он стоит\n",
    "3. Какой самый частый бренд (если известен)\n",
    "4. Можно ли сказать, что стоимость инструмента брендов Fender и Gibson зависит от года производства? если да, то как? (ответом будет график)\n"
   ]
  },
  {
   "cell_type": "code",
   "execution_count": 91,
   "metadata": {},
   "outputs": [
    {
     "data": {
      "text/html": [
       "<div>\n",
       "<style scoped>\n",
       "    .dataframe tbody tr th:only-of-type {\n",
       "        vertical-align: middle;\n",
       "    }\n",
       "\n",
       "    .dataframe tbody tr th {\n",
       "        vertical-align: top;\n",
       "    }\n",
       "\n",
       "    .dataframe thead th {\n",
       "        text-align: right;\n",
       "    }\n",
       "</style>\n",
       "<table border=\"1\" class=\"dataframe\">\n",
       "  <thead>\n",
       "    <tr style=\"text-align: right;\">\n",
       "      <th></th>\n",
       "      <th>Unnamed: 0</th>\n",
       "      <th>title</th>\n",
       "      <th>description</th>\n",
       "      <th>text</th>\n",
       "      <th>param_dict</th>\n",
       "      <th>price</th>\n",
       "    </tr>\n",
       "  </thead>\n",
       "  <tbody>\n",
       "    <tr>\n",
       "      <th>0</th>\n",
       "      <td>0</td>\n",
       "      <td>Fender American Standard Stratocaster [XIX19] ...</td>\n",
       "      <td>Welcome to Qsic's Reverb Shop!1. The descripti...</td>\n",
       "      <td>Welcome to Qsic's Reverb Shop!1. The descripti...</td>\n",
       "      <td>{'Condition': 'Very Good (Used)Very Good items...</td>\n",
       "      <td>$1,131.92</td>\n",
       "    </tr>\n",
       "    <tr>\n",
       "      <th>1</th>\n",
       "      <td>1</td>\n",
       "      <td>Fender \"American Vintage II 1951 Telecaster\" 3...</td>\n",
       "      <td>The Fender® American Vintage II series present...</td>\n",
       "      <td>The Fender® American Vintage II series present...</td>\n",
       "      <td>{'Condition': 'Brand New (New)Brand New items ...</td>\n",
       "      <td>$1,935.55</td>\n",
       "    </tr>\n",
       "    <tr>\n",
       "      <th>2</th>\n",
       "      <td>2</td>\n",
       "      <td>Rebel Custom Guitars Funky Claude 2022 - Hydro...</td>\n",
       "      <td>Stratocaster Style Custom Guitar by Rebel Cust...</td>\n",
       "      <td>Stratocaster Style Custom Guitar by Rebel Cust...</td>\n",
       "      <td>{'Condition': 'Brand New (New)Brand New items ...</td>\n",
       "      <td>$1,055.53</td>\n",
       "    </tr>\n",
       "    <tr>\n",
       "      <th>3</th>\n",
       "      <td>3</td>\n",
       "      <td>Fender AMERICAN PROFESSIONAL Stratocaster [MJ8...</td>\n",
       "      <td>Welcome to Qsic's Reverb Shop!1. The descripti...</td>\n",
       "      <td>Welcome to Qsic's Reverb Shop!1. The descripti...</td>\n",
       "      <td>{'Condition': 'Very Good (Used)Very Good items...</td>\n",
       "      <td>$1,290.62</td>\n",
       "    </tr>\n",
       "    <tr>\n",
       "      <th>4</th>\n",
       "      <td>4</td>\n",
       "      <td>G&amp;L S-500 Premium C.F.S [MJ724] | Reverb</td>\n",
       "      <td>Welcome to Qsic's Reverb Shop!1. The descripti...</td>\n",
       "      <td>Welcome to Qsic's Reverb Shop!1. The descripti...</td>\n",
       "      <td>{'Condition': 'Very Good (Used)Very Good items...</td>\n",
       "      <td>$575.55</td>\n",
       "    </tr>\n",
       "  </tbody>\n",
       "</table>\n",
       "</div>"
      ],
      "text/plain": [
       "   Unnamed: 0                                              title  \\\n",
       "0           0  Fender American Standard Stratocaster [XIX19] ...   \n",
       "1           1  Fender \"American Vintage II 1951 Telecaster\" 3...   \n",
       "2           2  Rebel Custom Guitars Funky Claude 2022 - Hydro...   \n",
       "3           3  Fender AMERICAN PROFESSIONAL Stratocaster [MJ8...   \n",
       "4           4           G&L S-500 Premium C.F.S [MJ724] | Reverb   \n",
       "\n",
       "                                         description  \\\n",
       "0  Welcome to Qsic's Reverb Shop!1. The descripti...   \n",
       "1  The Fender® American Vintage II series present...   \n",
       "2  Stratocaster Style Custom Guitar by Rebel Cust...   \n",
       "3  Welcome to Qsic's Reverb Shop!1. The descripti...   \n",
       "4  Welcome to Qsic's Reverb Shop!1. The descripti...   \n",
       "\n",
       "                                                text  \\\n",
       "0  Welcome to Qsic's Reverb Shop!1. The descripti...   \n",
       "1  The Fender® American Vintage II series present...   \n",
       "2  Stratocaster Style Custom Guitar by Rebel Cust...   \n",
       "3  Welcome to Qsic's Reverb Shop!1. The descripti...   \n",
       "4  Welcome to Qsic's Reverb Shop!1. The descripti...   \n",
       "\n",
       "                                          param_dict      price  \n",
       "0  {'Condition': 'Very Good (Used)Very Good items...  $1,131.92  \n",
       "1  {'Condition': 'Brand New (New)Brand New items ...  $1,935.55  \n",
       "2  {'Condition': 'Brand New (New)Brand New items ...  $1,055.53  \n",
       "3  {'Condition': 'Very Good (Used)Very Good items...  $1,290.62  \n",
       "4  {'Condition': 'Very Good (Used)Very Good items...    $575.55  "
      ]
     },
     "execution_count": 91,
     "metadata": {},
     "output_type": "execute_result"
    }
   ],
   "source": [
    "guitar = pd.read_csv(\"reverb.csv\")\n",
    "guitar.head()"
   ]
  },
  {
   "cell_type": "code",
   "execution_count": 92,
   "metadata": {},
   "outputs": [],
   "source": [
    "def dict_2_str(abiba):\n",
    "    pars = abiba.split('\\'')\n",
    "    print(pars)\n",
    "    norm_dict = dict()\n",
    "    for cnt, value in enumerate(pars):\n",
    "        if value == ': ':\n",
    "            norm_dict[pars[cnt - 1]] = pars[cnt+1]\n",
    "\n",
    "    return norm_dict"
   ]
  },
  {
   "cell_type": "code",
   "execution_count": null,
   "metadata": {},
   "outputs": [],
   "source": [
    "guitar['norm_dict'] = guitar['param_dict'].apply(dict_2_str)"
   ]
  },
  {
   "cell_type": "code",
   "execution_count": 100,
   "metadata": {},
   "outputs": [
    {
     "name": "stdout",
     "output_type": "stream",
     "text": [
      "{'Fretboard Material', 'Model', 'Color Family', 'Nut Width', 'Wood Top Style', 'Bridge/Tailpiece Type', 'Model Family', 'Body Type', 'Neck Material', 'Pickup Configuration', 'Number of Strings', 'Frets', 'Artist', 'Scale Length', 'Right / Left Handed', 'Year', 'Brand', 'Fretboard Radius', 'Body Material', 'Offset Body', 'Finish Features', 'Body Shape', 'Condition', 'Series', 'Top Material', 'Model Sub-Family', 'Neck Construction', 'Categories', 'Number of Frets', 'Made In', 'Product Family', 'Finish', 'Finish Style'}\n",
      "33\n"
     ]
    }
   ],
   "source": [
    "keys_set = set()\n",
    "\n",
    "for dict in guitar['norm_dict']:\n",
    "    for key in dict.keys():\n",
    "        keys_set.add(key)\n",
    "\n",
    "print(keys_set)\n",
    "print(len(keys_set))"
   ]
  },
  {
   "cell_type": "markdown",
   "metadata": {},
   "source": [
    "## 2"
   ]
  },
  {
   "cell_type": "code",
   "execution_count": 101,
   "metadata": {},
   "outputs": [],
   "source": [
    "guitar['price_norm'] = guitar['price'].apply(lambda x: float(x.replace('$', '').replace(',', '').strip()))"
   ]
  },
  {
   "cell_type": "code",
   "execution_count": 102,
   "metadata": {},
   "outputs": [
    {
     "data": {
      "text/html": [
       "<div>\n",
       "<style scoped>\n",
       "    .dataframe tbody tr th:only-of-type {\n",
       "        vertical-align: middle;\n",
       "    }\n",
       "\n",
       "    .dataframe tbody tr th {\n",
       "        vertical-align: top;\n",
       "    }\n",
       "\n",
       "    .dataframe thead th {\n",
       "        text-align: right;\n",
       "    }\n",
       "</style>\n",
       "<table border=\"1\" class=\"dataframe\">\n",
       "  <thead>\n",
       "    <tr style=\"text-align: right;\">\n",
       "      <th></th>\n",
       "      <th>Unnamed: 0</th>\n",
       "      <th>title</th>\n",
       "      <th>description</th>\n",
       "      <th>text</th>\n",
       "      <th>param_dict</th>\n",
       "      <th>price</th>\n",
       "      <th>norm_dict</th>\n",
       "      <th>price_norm</th>\n",
       "    </tr>\n",
       "  </thead>\n",
       "  <tbody>\n",
       "    <tr>\n",
       "      <th>17127</th>\n",
       "      <td>17127</td>\n",
       "      <td>Eric Clapton | Reverb</td>\n",
       "      <td>A unique offer for the complete collection of ...</td>\n",
       "      <td>A unique offer for the complete collection of ...</td>\n",
       "      <td>{'Condition': 'Mint (Used)Mint items are in es...</td>\n",
       "      <td>$387,363.74</td>\n",
       "      <td>{'Condition': 'Mint (Used)Mint items are in es...</td>\n",
       "      <td>387363.74</td>\n",
       "    </tr>\n",
       "  </tbody>\n",
       "</table>\n",
       "</div>"
      ],
      "text/plain": [
       "       Unnamed: 0                  title  \\\n",
       "17127       17127  Eric Clapton | Reverb   \n",
       "\n",
       "                                             description  \\\n",
       "17127  A unique offer for the complete collection of ...   \n",
       "\n",
       "                                                    text  \\\n",
       "17127  A unique offer for the complete collection of ...   \n",
       "\n",
       "                                              param_dict        price  \\\n",
       "17127  {'Condition': 'Mint (Used)Mint items are in es...  $387,363.74   \n",
       "\n",
       "                                               norm_dict  price_norm  \n",
       "17127  {'Condition': 'Mint (Used)Mint items are in es...   387363.74  "
      ]
     },
     "execution_count": 102,
     "metadata": {},
     "output_type": "execute_result"
    }
   ],
   "source": [
    "most_expensive = guitar[guitar['price_norm'] == max(guitar['price_norm'])]\n",
    "most_expensive"
   ]
  },
  {
   "cell_type": "code",
   "execution_count": 104,
   "metadata": {},
   "outputs": [
    {
     "name": "stdout",
     "output_type": "stream",
     "text": [
      "Gibson Eric Clapton - 387363.74\n"
     ]
    }
   ],
   "source": [
    "brand = most_expensive['norm_dict'][17127]['Brand']\n",
    "model = most_expensive['norm_dict'][17127]['Model']\n",
    "price = most_expensive['price_norm'][17127]\n",
    "print(f'{brand} {model} - {price}')\n"
   ]
  },
  {
   "cell_type": "markdown",
   "metadata": {},
   "source": [
    "## 3"
   ]
  },
  {
   "cell_type": "code",
   "execution_count": 105,
   "metadata": {},
   "outputs": [],
   "source": [
    "def field_from_dic(dict, key):\n",
    "    try:\n",
    "        brand = dict[key].strip()\n",
    "    except KeyError:\n",
    "        brand = None\n",
    "\n",
    "    return brand"
   ]
  },
  {
   "cell_type": "code",
   "execution_count": 107,
   "metadata": {},
   "outputs": [],
   "source": [
    "guitar['brand'] = guitar['norm_dict'].apply(lambda x: field_from_dic(dict=x,key='Brand'))"
   ]
  },
  {
   "cell_type": "code",
   "execution_count": 108,
   "metadata": {},
   "outputs": [
    {
     "data": {
      "text/plain": [
       "Fender      3250\n",
       "Gibson      2237\n",
       "Ibanez      1006\n",
       "PRS          796\n",
       "Epiphone     640\n",
       "Squier       391\n",
       "Gretsch      356\n",
       "Schecter     348\n",
       "ESP LTD      282\n",
       "Tokai        279\n",
       "Name: brand, dtype: int64"
      ]
     },
     "execution_count": 108,
     "metadata": {},
     "output_type": "execute_result"
    }
   ],
   "source": [
    "# топ-10 брендов по кол-ву объявлений\n",
    "guitar['brand'].value_counts().nlargest(10)"
   ]
  },
  {
   "cell_type": "markdown",
   "metadata": {},
   "source": [
    "## 4"
   ]
  },
  {
   "cell_type": "code",
   "execution_count": 110,
   "metadata": {},
   "outputs": [],
   "source": [
    "guitar['year'] = guitar['norm_dict'].apply(lambda x: field_from_dic(dict=x,key='Year'))\n",
    "guitar['len_year'] = guitar['year'].apply(lambda x: len(x.strip()) if x else None)\n",
    "ndf = guitar[guitar['brand'].isin(['Fender', 'Gibson'])][['price_norm', 'year', 'len_year']]"
   ]
  },
  {
   "cell_type": "code",
   "execution_count": 111,
   "metadata": {},
   "outputs": [
    {
     "data": {
      "text/plain": [
       "4.0     3437\n",
       "11.0     402\n",
       "14.0     114\n",
       "9.0       88\n",
       "5.0       44\n",
       "7.0       37\n",
       "6.0       11\n",
       "10.0       5\n",
       "3.0        5\n",
       "12.0       2\n",
       "13.0       2\n",
       "24.0       2\n",
       "18.0       2\n",
       "21.0       2\n",
       "2.0        2\n",
       "19.0       1\n",
       "8.0        1\n",
       "1.0        1\n",
       "15.0       1\n",
       "Name: len_year, dtype: int64"
      ]
     },
     "execution_count": 111,
     "metadata": {},
     "output_type": "execute_result"
    }
   ],
   "source": [
    "ndf['len_year'].value_counts()"
   ]
  },
  {
   "cell_type": "code",
   "execution_count": 112,
   "metadata": {},
   "outputs": [],
   "source": [
    "def year(year):\n",
    "    if year:\n",
    "        year = year.strip()\n",
    "        length = len(year)\n",
    "        out_year = None\n",
    "        if length == 4:\n",
    "            out_year = int(year)\n",
    "    else:\n",
    "        out_year = None\n",
    "    return out_year"
   ]
  },
  {
   "cell_type": "code",
   "execution_count": 115,
   "metadata": {},
   "outputs": [],
   "source": [
    "ndf['year_norm'] = ndf['year'].apply(year)"
   ]
  },
  {
   "cell_type": "code",
   "execution_count": 116,
   "metadata": {},
   "outputs": [],
   "source": [
    "df_corr = ndf[['price_norm', 'year_norm']][~ndf['price_norm'].isna() & ~ndf['year_norm'].isna()].reset_index(drop=True)"
   ]
  },
  {
   "cell_type": "code",
   "execution_count": 117,
   "metadata": {},
   "outputs": [
    {
     "data": {
      "text/html": [
       "<div>\n",
       "<style scoped>\n",
       "    .dataframe tbody tr th:only-of-type {\n",
       "        vertical-align: middle;\n",
       "    }\n",
       "\n",
       "    .dataframe tbody tr th {\n",
       "        vertical-align: top;\n",
       "    }\n",
       "\n",
       "    .dataframe thead th {\n",
       "        text-align: right;\n",
       "    }\n",
       "</style>\n",
       "<table border=\"1\" class=\"dataframe\">\n",
       "  <thead>\n",
       "    <tr style=\"text-align: right;\">\n",
       "      <th></th>\n",
       "      <th>price_norm</th>\n",
       "      <th>year_norm</th>\n",
       "    </tr>\n",
       "  </thead>\n",
       "  <tbody>\n",
       "    <tr>\n",
       "      <th>price_norm</th>\n",
       "      <td>1.000000</td>\n",
       "      <td>-0.403779</td>\n",
       "    </tr>\n",
       "    <tr>\n",
       "      <th>year_norm</th>\n",
       "      <td>-0.403779</td>\n",
       "      <td>1.000000</td>\n",
       "    </tr>\n",
       "  </tbody>\n",
       "</table>\n",
       "</div>"
      ],
      "text/plain": [
       "            price_norm  year_norm\n",
       "price_norm    1.000000  -0.403779\n",
       "year_norm    -0.403779   1.000000"
      ]
     },
     "execution_count": 117,
     "metadata": {},
     "output_type": "execute_result"
    }
   ],
   "source": [
    "df_corr.corr()"
   ]
  },
  {
   "cell_type": "code",
   "execution_count": 119,
   "metadata": {},
   "outputs": [
    {
     "data": {
      "text/plain": [
       "<AxesSubplot:xlabel='price_norm', ylabel='year_norm'>"
      ]
     },
     "execution_count": 119,
     "metadata": {},
     "output_type": "execute_result"
    },
    {
     "data": {
      "image/png": "[encoded data removed]",
      "text/plain": [
       "<Figure size 432x288 with 1 Axes>"
      ]
     },
     "metadata": {
      "needs_background": "light"
     },
     "output_type": "display_data"
    }
   ],
   "source": [
    "import seaborn as sb\n",
    "\n",
    "sb.scatterplot(data=df_corr, x=df_corr['price_norm'], y=df_corr['year_norm'])"
   ]
  },
  {
   "cell_type": "markdown",
   "metadata": {},
   "source": [
    "# Задача 5. Про парсинг информации\n",
    "\n",
    "Есть сайт https://nplus1.ru/ , новости за дату на нем можно увидеть на страницах типа https://nplus1.ru/news/2023/03/28\n",
    "\n",
    "Используя парсер, посчитайте суммарную длину текстов статей (в количестве слов или в количестве символов, как вам будет удобнее), которые были на N+1 в списке новостей в Июле 2023 года (пройтись по всем датам июля, собрать тексты статей, посчитать длину в словах/символах). \n",
    "\n",
    "Пользуйтесь любыми удобными вам библиотеками"
   ]
  },
  {
   "cell_type": "markdown",
   "metadata": {},
   "source": [
    "## !!!!"
   ]
  },
  {
   "cell_type": "markdown",
   "metadata": {},
   "source": [
    "Я не успел доделать. Меня выбил из сил JSON, который не хотел распарсиваться. Я оставил красивый код, как бы я это делал без проблем с JSON, но он принципиально не видит аттрибуты внутри :("
   ]
  },
  {
   "cell_type": "code",
   "execution_count": 26,
   "metadata": {},
   "outputs": [],
   "source": [
    "import requests\n",
    "from bs4 import BeautifulSoup\n",
    "import re"
   ]
  },
  {
   "cell_type": "code",
   "execution_count": 62,
   "metadata": {},
   "outputs": [],
   "source": [
    "# Функция для получения HTML-кода страницы по URL\n",
    "def get_html(url):\n",
    "    response = requests.get(url)\n",
    "    return response.content"
   ]
  },
  {
   "cell_type": "code",
   "execution_count": 45,
   "metadata": {},
   "outputs": [],
   "source": [
    "# Функция для извлечения текстов статей с одной страницы новостей\n",
    "def extract_article_texts(html):\n",
    "    soup = BeautifulSoup(html, 'html.parser')\n",
    "    article_texts = []\n",
    "\n",
    "    # Найдем все заголовки статей\n",
    "    headlines = soup.find_all('a', class_='n1_climb_4')\n",
    "\n",
    "    for headline in headlines:\n",
    "        # Получим URL статьи из ссылки в заголовке\n",
    "        article_url = headline.a['href']\n",
    "\n",
    "        # Получим HTML-код статьи\n",
    "        article_html = get_html(article_url)\n",
    "        article_soup = BeautifulSoup(article_html, 'html.parser')\n",
    "\n",
    "        # Извлечем текст статьи (для данного сайта текст находится в <p> тегах)\n",
    "        paragraphs = article_soup.find_all('p')\n",
    "        article_text = ' '.join([p.text for p in paragraphs])\n",
    "\n",
    "        # Добавим текст статьи в список\n",
    "        article_texts.append(article_text)\n",
    "\n",
    "    return article_texts\n"
   ]
  },
  {
   "cell_type": "code",
   "execution_count": 32,
   "metadata": {},
   "outputs": [],
   "source": [
    "# Функция для подсчета суммарной длины текстов статей\n",
    "def count_total_length(article_texts, measure='words'):\n",
    "    total_length = 0\n",
    "\n",
    "    for text in article_texts:\n",
    "        if measure == 'words':\n",
    "            words = re.findall(r'\\w+', text)\n",
    "            total_length += len(words)\n",
    "        elif measure == 'characters':\n",
    "            total_length += len(text)\n",
    "\n",
    "    return total_length"
   ]
  },
  {
   "cell_type": "code",
   "execution_count": 33,
   "metadata": {},
   "outputs": [],
   "source": [
    "# Основная функция\n",
    "def parse_all_data():\n",
    "    # URL базовой страницы новостей за июль 2023 года\n",
    "    base_url = 'https://nplus1.ru/news/2023/07/'\n",
    "\n",
    "    # Список дней в июле\n",
    "    days_in_july = range(1, 32)\n",
    "\n",
    "    total_length_words = 0\n",
    "    total_length_characters = 0\n",
    "\n",
    "    for day in days_in_july:\n",
    "        # Формируем URL для каждого дня в июле\n",
    "        url = f'{base_url}{day}'\n",
    "        html = get_html(url)\n",
    "\n",
    "        # Извлекаем тексты статей и добавляем их к суммарным значениям\n",
    "        article_texts = extract_article_texts(html)\n",
    "        total_length_words += count_total_length(article_texts, measure='words')\n",
    "        total_length_characters += count_total_length(article_texts, measure='characters')\n",
    "\n",
    "    print(f'Суммарная длина текстов статей в словах: {total_length_words}')\n",
    "    print(f'Суммарная длина текстов статей в символах: {total_length_characters}')"
   ]
  },
  {
   "cell_type": "code",
   "execution_count": 63,
   "metadata": {},
   "outputs": [
    {
     "data": {
      "text/plain": [
       "[]"
      ]
     },
     "execution_count": 63,
     "metadata": {},
     "output_type": "execute_result"
    }
   ],
   "source": [
    "html = get_html('https://nplus1.ru/news/2023/07/10')\n",
    "extract_article_texts(html)"
   ]
  },
  {
   "cell_type": "code",
   "execution_count": 65,
   "metadata": {},
   "outputs": [
    {
     "data": {
      "text/plain": [
       "[]"
      ]
     },
     "execution_count": 65,
     "metadata": {},
     "output_type": "execute_result"
    }
   ],
   "source": [
    "soup = BeautifulSoup(html, 'html.parser')\n",
    "article_texts = []\n",
    "\n",
    "    # Найдем все заголовки статей\n",
    "headlines = soup.find_all('a', class_='n1_climb_4')\n",
    "headlines"
   ]
  }
 ],
 "metadata": {
  "kernelspec": {
   "display_name": "Python 3",
   "language": "python",
   "name": "python3"
  },
  "language_info": {
   "codemirror_mode": {
    "name": "ipython",
    "version": 3
   },
   "file_extension": ".py",
   "mimetype": "text/x-python",
   "name": "python",
   "nbconvert_exporter": "python",
   "pygments_lexer": "ipython3",
   "version": "3.11.5"
  }
 },
 "nbformat": 4,
 "nbformat_minor": 4
}
